{
 "cells": [
  {
   "cell_type": "code",
   "execution_count": 1,
   "id": "d6de8618",
   "metadata": {},
   "outputs": [
    {
     "data": {
      "text/plain": [
       "Index(['RespondentID',\n",
       "       'Have you seen any of the 6 films in the Star Wars franchise?',\n",
       "       'Do you consider yourself to be a fan of the Star Wars film franchise?',\n",
       "       'Which of the following Star Wars films have you seen? Please select all that apply.',\n",
       "       'Unnamed: 4', 'Unnamed: 5', 'Unnamed: 6', 'Unnamed: 7', 'Unnamed: 8',\n",
       "       'Please rank the Star Wars films in order of preference with 1 being your favorite film in the franchise and 6 being your least favorite film.',\n",
       "       'Unnamed: 10', 'Unnamed: 11', 'Unnamed: 12', 'Unnamed: 13',\n",
       "       'Unnamed: 14',\n",
       "       'Please state whether you view the following characters favorably, unfavorably, or are unfamiliar with him/her.',\n",
       "       'Unnamed: 16', 'Unnamed: 17', 'Unnamed: 18', 'Unnamed: 19',\n",
       "       'Unnamed: 20', 'Unnamed: 21', 'Unnamed: 22', 'Unnamed: 23',\n",
       "       'Unnamed: 24', 'Unnamed: 25', 'Unnamed: 26', 'Unnamed: 27',\n",
       "       'Unnamed: 28', 'Which character shot first?',\n",
       "       'Are you familiar with the Expanded Universe?',\n",
       "       'Do you consider yourself to be a fan of the Expanded Universe?',\n",
       "       'Do you consider yourself to be a fan of the Star Trek franchise?',\n",
       "       'Gender', 'Age', 'Household Income', 'Education',\n",
       "       'Location (Census Region)'],\n",
       "      dtype='object')"
      ]
     },
     "execution_count": 1,
     "metadata": {},
     "output_type": "execute_result"
    }
   ],
   "source": [
    "import matplotlib.pyplot as plt\n",
    "import numpy as np\n",
    "import pandas as pd\n",
    "\n",
    "%matplotlib inline\n",
    "\n",
    "data = pd.read_csv(\"star_wars.csv\", encoding=\"ISO-8859-1\")\n",
    "data.columns"
   ]
  },
  {
   "cell_type": "code",
   "execution_count": 2,
   "id": "11bb8020",
   "metadata": {},
   "outputs": [
    {
     "data": {
      "text/plain": [
       "Index(['RespondentID',\n",
       "       'Have you seen any of the 6 films in the Star Wars franchise?',\n",
       "       'Do you consider yourself to be a fan of the Star Wars film franchise?',\n",
       "       'seen_1', 'seen_2', 'seen_3', 'seen_4', 'seen_5', 'seen_6',\n",
       "       'favorite_1', 'favorite_2', 'favorite_3', 'favorite_4', 'favorite_5',\n",
       "       'favorite_6', 'Han Solo', 'Luke Skywalker', 'Princess Leia Organa',\n",
       "       'Anakin Skywalker', 'Obi Wan Kenobi', 'Emperor Palpatine',\n",
       "       'Darth Vader', 'Lando Calrissian', 'Boba Fett', 'C-3PO', 'R2-D2',\n",
       "       'Jar Jar Binks', 'Padme Anidala', 'Yoda', 'Which character shot first?',\n",
       "       'Are you familiar with the Expanded Universe?',\n",
       "       'Do you consider yourself to be a fan of the Expanded Universe?',\n",
       "       'Do you consider yourself to be a fan of the Star Trek franchise?',\n",
       "       'Gender', 'Age', 'Household Income', 'Education',\n",
       "       'Location (Census Region)'],\n",
       "      dtype='object')"
      ]
     },
     "execution_count": 2,
     "metadata": {},
     "output_type": "execute_result"
    }
   ],
   "source": [
    "data = data.rename(columns={\n",
    "    \"Which of the following Star Wars films have you seen? Please select all that apply.\": \"seen_1\",\n",
    "    \"Unnamed: 4\": \"seen_2\",\n",
    "    \"Unnamed: 5\": \"seen_3\",\n",
    "    \"Unnamed: 6\": \"seen_4\",\n",
    "    \"Unnamed: 7\": \"seen_5\",\n",
    "    \"Unnamed: 8\": \"seen_6\",\n",
    "    \"Please rank the Star Wars films in order of preference with 1 being your favorite film in the franchise and 6 being your least favorite film.\": \"favorite_1\",\n",
    "    \"Unnamed: 10\": \"favorite_2\",\n",
    "    \"Unnamed: 11\": \"favorite_3\",\n",
    "    \"Unnamed: 12\": \"favorite_4\",\n",
    "    \"Unnamed: 13\": \"favorite_5\",\n",
    "    \"Unnamed: 14\": \"favorite_6\",\n",
    "    \"Please state whether you view the following characters favorably, unfavorably, or are unfamiliar with him/her.\": \"Han Solo\",\n",
    "    \"Unnamed: 16\": \"Luke Skywalker\",\n",
    "    \"Unnamed: 17\": \"Princess Leia Organa\",\n",
    "    \"Unnamed: 18\": \"Anakin Skywalker\",\n",
    "    \"Unnamed: 19\": \"Obi Wan Kenobi\",\n",
    "    \"Unnamed: 20\": \"Emperor Palpatine\",\n",
    "    \"Unnamed: 21\": \"Darth Vader\",\n",
    "    \"Unnamed: 22\": \"Lando Calrissian\",\n",
    "    \"Unnamed: 23\": \"Boba Fett\",\n",
    "    \"Unnamed: 24\": \"C-3PO\",\n",
    "    \"Unnamed: 25\": \"R2-D2\",\n",
    "    \"Unnamed: 26\": \"Jar Jar Binks\",\n",
    "    \"Unnamed: 27\": \"Padme Anidala\",\n",
    "    \"Unnamed: 28\": \"Yoda\"\n",
    "})\n",
    "\n",
    "data.columns"
   ]
  },
  {
   "cell_type": "code",
   "execution_count": 3,
   "id": "86173082",
   "metadata": {},
   "outputs": [
    {
     "data": {
      "text/plain": [
       "Have you seen any of the 6 films in the Star Wars franchise?\n",
       "Yes         936\n",
       "No          250\n",
       "Response      1\n",
       "Name: count, dtype: int64"
      ]
     },
     "execution_count": 3,
     "metadata": {},
     "output_type": "execute_result"
    }
   ],
   "source": [
    "data[\"Have you seen any of the 6 films in the Star Wars franchise?\"].value_counts(dropna=True)"
   ]
  },
  {
   "cell_type": "code",
   "execution_count": 4,
   "id": "6bb6f4b1",
   "metadata": {},
   "outputs": [
    {
     "data": {
      "text/plain": [
       "Have you seen any of the 6 films in the Star Wars franchise?\n",
       "True     936\n",
       "False    250\n",
       "NaN        1\n",
       "Name: count, dtype: int64"
      ]
     },
     "execution_count": 4,
     "metadata": {},
     "output_type": "execute_result"
    }
   ],
   "source": [
    "yes_no = {\"Yes\": True, \"No\": False, True: True, False: False}\n",
    "\n",
    "for column in [\n",
    "    \"Have you seen any of the 6 films in the Star Wars franchise?\",\n",
    "    \"Do you consider yourself to be a fan of the Star Wars film franchise?\",\n",
    "    \"Are you familiar with the Expanded Universe?\",\n",
    "    \"Do you consider yourself to be a fan of the Expanded Universe?\",\n",
    "    \"Do you consider yourself to be a fan of the Star Trek franchise?\"\n",
    "]:\n",
    "    data[column] = data[column].map(yes_no, na_action=\"ignore\")\n",
    "\n",
    "data[\"Have you seen any of the 6 films in the Star Wars franchise?\"].value_counts(dropna=False)"
   ]
  },
  {
   "cell_type": "code",
   "execution_count": 5,
   "id": "d6e5adf3",
   "metadata": {},
   "outputs": [],
   "source": [
    "movie_mapping = {\n",
    "    \"Star Wars: Episode I  The Phantom Menace\": True,\n",
    "    \"Star Wars: Episode II  Attack of the Clones\": True,\n",
    "    \"Star Wars: Episode III  Revenge of the Sith\": True,\n",
    "    \"Star Wars: Episode IV  A New Hope\": True,\n",
    "    \"Star Wars: Episode V The Empire Strikes Back\": True,\n",
    "    \"Star Wars: Episode VI Return of the Jedi\": True,\n",
    "    True: True,\n",
    "    False: False,\n",
    "    np.nan: False\n",
    "}\n",
    "\n",
    "for column in data.columns[3:9]:\n",
    "    data[column] = data[column].map(movie_mapping)\n"
   ]
  },
  {
   "cell_type": "code",
   "execution_count": 6,
   "id": "f5875263",
   "metadata": {},
   "outputs": [],
   "source": [
    "# Clean the data from non-numeric items\n",
    "for column in data.columns[9:15]:\n",
    "    data[column] = pd.to_numeric(data[column], errors=\"coerce\")"
   ]
  },
  {
   "cell_type": "markdown",
   "id": "332aac37",
   "metadata": {},
   "source": [
    "## Analysis\n",
    "\n",
    "### Total respondents who have seen each movie"
   ]
  },
  {
   "cell_type": "code",
   "execution_count": 7,
   "id": "b64ae562",
   "metadata": {},
   "outputs": [],
   "source": [
    "total_seen = data[data.columns[3:9]].sum()"
   ]
  },
  {
   "cell_type": "code",
   "execution_count": 8,
   "id": "01f91e9b",
   "metadata": {},
   "outputs": [
    {
     "data": {
      "image/png": "[encoded data removed]",
      "text/plain": [
       "<Figure size 600x300 with 1 Axes>"
      ]
     },
     "metadata": {},
     "output_type": "display_data"
    }
   ],
   "source": [
    "ind = np.arange(6)\n",
    "\n",
    "fig, ax = plt.subplots(figsize=(6,3))\n",
    "\n",
    "ax.barh(ind, total_seen, color=\"#ff1947\", height=0.6)\n",
    "ax.set_title(\"Total Respondents who have seen each movie\")\n",
    "ax.set_xlabel(\"Number of Respondents\")\n",
    "for spine in [\"top\", \"right\", \"bottom\", \"left\"]:\n",
    "    ax.spines[spine].set_visible(False)\n",
    "ax.invert_yaxis()\n",
    "plt.show()"
   ]
  },
  {
   "cell_type": "markdown",
   "id": "b5f6b46e",
   "metadata": {},
   "source": [
    "### Average Ranking by Gender and Amount of Respondents by Gender"
   ]
  },
  {
   "cell_type": "code",
   "execution_count": 9,
   "id": "7536d464",
   "metadata": {},
   "outputs": [],
   "source": [
    "males = data[data[\"Gender\"] == \"Male\"]\n",
    "females = data[data[\"Gender\"] == \"Female\"]\n",
    "\n",
    "mean_males = males[males.columns[9:15]].mean()\n",
    "mean_females = females[females.columns[9:15]].mean()\n",
    "\n",
    "males_tot_seen = males[males.columns[3:9]].sum()\n",
    "females_tot_seen = females[females.columns[3:9]].sum()"
   ]
  },
  {
   "cell_type": "code",
   "execution_count": 10,
   "id": "398f244a",
   "metadata": {},
   "outputs": [
    {
     "data": {
      "image/png": "[encoded data removed]",
      "text/plain": [
       "<Figure size 800x400 with 2 Axes>"
      ]
     },
     "metadata": {},
     "output_type": "display_data"
    }
   ],
   "source": [
    "ind = np.arange(6)\n",
    "height = 0.35\n",
    "offset = ind + height\n",
    "\n",
    "fig, ax = plt.subplots(1, 2, figsize=(8, 4))\n",
    "\n",
    "malebar = ax[0].barh(ind, mean_males, color=\"#4a4e69\", height=height)\n",
    "femalebar = ax[0].barh(offset, mean_females, color=\"#9a8c98\", height=height)\n",
    "ax[0].set_title(\"Average Ranking by Gender\")\n",
    "ax[0].set_yticks(ind + height / 2)\n",
    "ax[0].set_yticklabels((\n",
    "    \"Ep I\",\n",
    "    \"Ep II\",\n",
    "    \"Ep III\",\n",
    "    \"Ep IV\",\n",
    "    \"Ep V\",\n",
    "    \"Ep VI\"\n",
    "))\n",
    "ax[0].set_facecolor(\"#fff4d6\")\n",
    "ax[0].set_xlabel(\"Avg Ranking (lower values are better)\")\n",
    "\n",
    "ax[0].legend((malebar[0], femalebar[0]), (\"Men\", \"Women\"), bbox_to_anchor=[-0.2, 1])\n",
    "ax[0].invert_yaxis()\n",
    "\n",
    "maleseenbar = ax[1].barh(ind, males_tot_seen, color=\"#ffb627\", height=height)\n",
    "femaleseenbar = ax[1].barh(offset, females_tot_seen, color=\"#ffc971\", height=height)\n",
    "ax[1].set_title(\"# of Respondents by Gender\")\n",
    "ax[1].set_yticks([])\n",
    "ax[1].set_facecolor(\"#fff4d6\")\n",
    "ax[1].set_xlabel(\"Number of Respondents\")\n",
    "\n",
    "ax[1].legend((maleseenbar[0], femaleseenbar[0]), (\"Men\", \"Women\"), bbox_to_anchor=[1, 1])\n",
    "ax[1].invert_yaxis()\n",
    "\n",
    "\n",
    "for a in ax:\n",
    "    for spine in [\"top\", \"right\", \"bottom\", \"left\"]:\n",
    "        a.spines[spine].set_visible(False)\n",
    "\n",
    "plt.show()"
   ]
  }
 ],
 "metadata": {
  "kernelspec": {
   "display_name": "Python 3",
   "language": "python",
   "name": "python3"
  },
  "language_info": {
   "codemirror_mode": {
    "name": "ipython",
    "version": 3
   },
   "file_extension": ".py",
   "mimetype": "text/x-python",
   "name": "python",
   "nbconvert_exporter": "python",
   "pygments_lexer": "ipython3",
   "version": "3.13.2"
  }
 },
 "nbformat": 4,
 "nbformat_minor": 5
}
